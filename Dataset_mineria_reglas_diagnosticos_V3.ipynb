{
  "nbformat": 4,
  "nbformat_minor": 0,
  "metadata": {
    "colab": {
      "provenance": []
    },
    "kernelspec": {
      "name": "python3",
      "display_name": "Python 3"
    },
    "language_info": {
      "name": "python"
    }
  },
  "cells": [
    {
      "cell_type": "code",
      "source": [
        "from google.colab import drive\n",
        "drive.mount('/content/drive')"
      ],
      "metadata": {
        "colab": {
          "base_uri": "https://localhost:8080/"
        },
        "id": "M86S1fQxl3X9",
        "outputId": "4e7e71e1-aebf-4de4-a67d-29bbb7079072"
      },
      "execution_count": 1,
      "outputs": [
        {
          "output_type": "stream",
          "name": "stdout",
          "text": [
            "Drive already mounted at /content/drive; to attempt to forcibly remount, call drive.mount(\"/content/drive\", force_remount=True).\n"
          ]
        }
      ]
    },
    {
      "cell_type": "markdown",
      "source": [
        "# Análisis de la de los resultados de la minería de reglas"
      ],
      "metadata": {
        "id": "CqwzHvCt4w-v"
      }
    },
    {
      "cell_type": "code",
      "source": [
        "import re\n",
        "from pyspark.sql import SparkSession\n",
        "from pyspark.sql.functions import col, udf, size, split\n",
        "from pyspark.sql.types import BooleanType\n",
        "from pyspark.sql.functions import size"
      ],
      "metadata": {
        "id": "_yV5q3uSO3cg"
      },
      "execution_count": 2,
      "outputs": []
    },
    {
      "cell_type": "markdown",
      "source": [
        "# Preparar dataset con diagnósticos como consecuente para análisis"
      ],
      "metadata": {
        "id": "Pa9UAivmT8iK"
      }
    },
    {
      "cell_type": "code",
      "source": [
        "# Crear sesión de Spark\n",
        "spark = SparkSession.builder.appName(\"ReglasDiagnostico\").getOrCreate()"
      ],
      "metadata": {
        "id": "8MKGVh0xO9Uj"
      },
      "execution_count": 3,
      "outputs": []
    },
    {
      "cell_type": "code",
      "source": [
        "ruta_rules = \"drive/MyDrive/TFM_febrero2025/fpgrowth_rules_parquet\"\n",
        "\n",
        "df_spark = spark.read.parquet(ruta_rules, header=True, inferSchema=True)"
      ],
      "metadata": {
        "id": "zbgolVE7Pdve"
      },
      "execution_count": 4,
      "outputs": []
    },
    {
      "cell_type": "code",
      "source": [
        "# Filtrar reglas con un diagnóstico como consecuente: Letra + 2 números\n",
        "\n",
        "# Expresión regular para identificar diagnósticos\n",
        "diagnosis_pattern = r\"^[A-Za-z][0-9]{2}$\"\n",
        "\n",
        "@udf(BooleanType())\n",
        "def has_diagnosis_udf(consequent_items):\n",
        "    if isinstance(consequent_items, list):\n",
        "        return any(re.match(diagnosis_pattern, item) for item in consequent_items)\n",
        "    return False\n",
        "\n",
        "# Reglas donde el consecuente es un diagnóstico\n",
        "df_filtrado = df_spark.filter(has_diagnosis_udf(col(\"consequent\")))\n"
      ],
      "metadata": {
        "id": "tX7SPuAXPKbi"
      },
      "execution_count": 5,
      "outputs": []
    },
    {
      "cell_type": "code",
      "source": [
        "# Contar el número de antecedentes\n",
        "df_filtrado = df_filtrado.withColumn(\"num_antecedents\", size(col(\"antecedent\")))\n",
        "\n",
        "# Filtrar reglas con 5 o menos antecedentes\n",
        "df_final = df_filtrado.filter(col(\"num_antecedents\") <= 5)\n"
      ],
      "metadata": {
        "id": "2CNvl7mhPtM1"
      },
      "execution_count": 6,
      "outputs": []
    },
    {
      "cell_type": "code",
      "source": [
        "df_final.show(10, truncate=False)"
      ],
      "metadata": {
        "colab": {
          "base_uri": "https://localhost:8080/"
        },
        "id": "BWiV54XjSHtq",
        "outputId": "0662a7bb-1ab6-4738-ea63-1f083e2c0cf9"
      },
      "execution_count": 7,
      "outputs": [
        {
          "output_type": "stream",
          "name": "stdout",
          "text": [
            "+-----------------------------------+----------+------------------+------------------+--------------------+---------------+\n",
            "|antecedent                         |consequent|confidence        |lift              |support             |num_antecedents|\n",
            "+-----------------------------------+----------+------------------+------------------+--------------------+---------------+\n",
            "|[50862, 50983, 50902, 51006, 51279]|[E87]     |0.7212218056665233|3.2029281341216995|0.056164717932028006|5              |\n",
            "|[50821, 50971, 51237, 51006, 51279]|[E87]     |0.7024684379121915|3.1196448934903795|0.05352758460603334 |5              |\n",
            "|[I13, I50, 51249, 51279]           |[N18]     |0.9943776489923017|5.055214764417688 |0.055020843404055726|4              |\n",
            "|[50820, 50983, 52172, 51221, 51222]|[E87]     |0.7108295664353473|3.1567764576907633|0.05343664897410249 |5              |\n",
            "|[I48, E78, 52172, 51221, 50931]    |[Z79]     |0.730888082762327 |2.2121452801454065|0.05207261449513973 |5              |\n",
            "|[50821, 50983, 50970, 51006, 51301]|[E87]     |0.719701564964212 |3.1961767829037897|0.05678690909787067 |5              |\n",
            "|[50971, 50983, 50868, 50970, 51221]|[E87]     |0.7061821769154883|3.136137516207814 |0.06166871670679002 |5              |\n",
            "|[N18, E11, 51222, 0]               |[Z79]     |0.7185406632342357|2.1747739144394416|0.062118608780553176|4              |\n",
            "|[I13, I50, 51221, 51222]           |[N18]     |0.9947024673439768|5.056866075193635 |0.06560287930927208 |4              |\n",
            "|[50821, 50971, 50912, 50882]       |[E87]     |0.7529943340744459|3.3440291440057104|0.05024911577063162 |4              |\n",
            "+-----------------------------------+----------+------------------+------------------+--------------------+---------------+\n",
            "only showing top 10 rows\n",
            "\n"
          ]
        }
      ]
    },
    {
      "cell_type": "code",
      "source": [
        "# Mostrar la cantidad de reglas después del filtrado\n",
        "print(f\"Después del filtrado hay {df_final.count()} reglas con diagnósico como consecuente\")"
      ],
      "metadata": {
        "colab": {
          "base_uri": "https://localhost:8080/"
        },
        "id": "O91_U7gISwt6",
        "outputId": "194c0eee-3a3a-44d1-94c4-36de20b75092"
      },
      "execution_count": 8,
      "outputs": [
        {
          "output_type": "stream",
          "name": "stdout",
          "text": [
            "Después del filtrado hay 8155 reglas con diagnósico como consecuente\n"
          ]
        }
      ]
    },
    {
      "cell_type": "code",
      "source": [
        "# Guardar en formato Parquet\n",
        "ruta_salida_parquet = \"/data/reglas_diagnostico_filtradas_5antecedent.parquet\"\n",
        "\n",
        "df_final.coalesce(1).write.mode(\"overwrite\").parquet(\"/data/reglas_diagnostico_filtradas_5antecedent.parquet\")\n",
        "\n",
        "print(f\"Archivo guardado en: {ruta_salida_parquet}\")"
      ],
      "metadata": {
        "id": "xqyoAZ8zTAFY"
      },
      "execution_count": null,
      "outputs": []
    },
    {
      "cell_type": "code",
      "source": [],
      "metadata": {
        "id": "08VSdndaErN1"
      },
      "execution_count": null,
      "outputs": []
    }
  ]
}