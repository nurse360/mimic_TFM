{
 "cells": [
  {
   "cell_type": "code",
   "execution_count": null,
   "metadata": {
    "application/vnd.databricks.v1+cell": {
     "cellMetadata": {
      "byteLimit": 2048000,
      "rowLimit": 10000
     },
     "inputWidgets": {},
     "nuid": "9e891930-0f6a-4485-b628-5b575ed5f165",
     "showTitle": false,
     "tableResultSettingsMap": {},
     "title": ""
    }
   },
   "outputs": [],
   "source": [
    "ruta_arbol = \"data/resultados/dataset_arbol.parquet\" "
   ]
  },
  {
   "cell_type": "code",
   "execution_count": null,
   "metadata": {},
   "outputs": [],
   "source": [
    "from pyspark.sql import SparkSession\n",
    "\n",
    "# Detener sesión anterior\n",
    "try:\n",
    "    spark.stop()\n",
    "except:\n",
    "    pass\n",
    "\n",
    "spark = SparkSession.builder \\\n",
    "    .appName(\"Preparación dataset para entrenamiento del modelo predictivo\") \\\n",
    "    .config(\"spark.master\", \"local[*]\") \\\n",
    "    .config(\"spark.driver.memory\", \"20g\") \\\n",
    "    .config(\"spark.executor.memory\", \"20g\") \\\n",
    "    .getOrCreate()"
   ]
  },
  {
   "cell_type": "code",
   "execution_count": null,
   "metadata": {
    "application/vnd.databricks.v1+cell": {
     "cellMetadata": {
      "byteLimit": 2048000,
      "rowLimit": 10000
     },
     "inputWidgets": {},
     "nuid": "a1a52353-57bd-4888-b1b3-57f360c27d9a",
     "showTitle": false,
     "tableResultSettingsMap": {},
     "title": ""
    }
   },
   "outputs": [],
   "source": [
    "df_arbol = spark.read.parquet(ruta_arbol)"
   ]
  },
  {
   "cell_type": "markdown",
   "metadata": {
    "application/vnd.databricks.v1+cell": {
     "cellMetadata": {},
     "inputWidgets": {},
     "nuid": "d4ae396b-0819-409b-b4f0-41b5d2943fc6",
     "showTitle": false,
     "tableResultSettingsMap": {},
     "title": ""
    }
   },
   "source": [
    "# Análisis exploratorio"
   ]
  },
  {
   "cell_type": "code",
   "execution_count": null,
   "metadata": {
    "application/vnd.databricks.v1+cell": {
     "cellMetadata": {
      "byteLimit": 2048000,
      "rowLimit": 10000
     },
     "inputWidgets": {},
     "nuid": "d4b1875a-5a8f-42d6-b1a3-f70ce0020752",
     "showTitle": false,
     "tableResultSettingsMap": {},
     "title": ""
    },
    "jupyter": {
     "outputs_hidden": true
    }
   },
   "outputs": [],
   "source": [
    "# Mostrar el esquema del dataset\n",
    "df_arbol.printSchema()"
   ]
  },
  {
   "cell_type": "code",
   "execution_count": null,
   "metadata": {
    "application/vnd.databricks.v1+cell": {
     "cellMetadata": {
      "byteLimit": 2048000,
      "rowLimit": 10000
     },
     "inputWidgets": {},
     "nuid": "59533cfe-b532-4e2c-ad5c-eb416eada6a4",
     "showTitle": false,
     "tableResultSettingsMap": {},
     "title": ""
    }
   },
   "outputs": [],
   "source": [
    "# Contar el número total de registros\n",
    "print(f\"Número total de ingresos hospitalarios: {df_arbol.count()}\")"
   ]
  },
  {
   "cell_type": "code",
   "execution_count": null,
   "metadata": {
    "application/vnd.databricks.v1+cell": {
     "cellMetadata": {
      "byteLimit": 2048000,
      "rowLimit": 10000
     },
     "inputWidgets": {},
     "nuid": "79cd11e0-cfe8-4ce2-b66a-01123cc82c13",
     "showTitle": false,
     "tableResultSettingsMap": {},
     "title": ""
    }
   },
   "outputs": [],
   "source": [
    "import pandas as pd\n",
    "\n",
    "# Obtener el resumen del DataFrame de Spark y convertirlo en Pandas\n",
    "df_stats = df_arbol.describe().toPandas()\n",
    "\n",
    "df_stats"
   ]
  },
  {
   "cell_type": "code",
   "execution_count": null,
   "metadata": {
    "application/vnd.databricks.v1+cell": {
     "cellMetadata": {
      "byteLimit": 2048000,
      "rowLimit": 10000
     },
     "inputWidgets": {},
     "nuid": "edc686d9-3750-4e9a-b1bc-9542def3ee06",
     "showTitle": false,
     "tableResultSettingsMap": {},
     "title": ""
    }
   },
   "outputs": [],
   "source": [
    "import pandas as pd\n",
    "import matplotlib.pyplot as plt\n",
    "import seaborn as sns\n",
    "\n",
    "# Convertir el DataFrame de Spark a Pandas\n",
    "df_pandas = df_arbol.select(\n",
    "    \"sexo\", \"estado_civil\", \"tipo_seguro\", \"grupo_poblacional\", \"edad_categoria\", \"muerte_durante_ingreso\"\n",
    ").toPandas()\n",
    "\n",
    "# Configuración del estilo\n",
    "sns.set_theme(style=\"whitegrid\")  # Fondo blanco con grid suave\n",
    "palette = sns.color_palette(\"Set2\")  # Paleta de colores moderna y profesional\n",
    "\n",
    "# Crear la figura y los subgráficos\n",
    "fig, axes = plt.subplots(3, 2, figsize=(14, 12))\n",
    "axes = axes.flatten()\n",
    "\n",
    "# Variables categóricas a graficar\n",
    "categorical_cols = [\n",
    "    \"sexo\", \"estado_civil\", \"tipo_seguro\", \"grupo_poblacional\", \"edad_categoria\", \"muerte_durante_ingreso\"\n",
    "]\n",
    "\n",
    "# Crear un gráfico de barras para cada variable categórica\n",
    "for i, col in enumerate(categorical_cols):\n",
    "    ax = axes[i]\n",
    "    sns.countplot(\n",
    "        y=df_pandas[col],\n",
    "        ax=ax,\n",
    "        order=df_pandas[col].value_counts().index,\n",
    "        palette=palette  # Aplicamos la paleta de colores\n",
    "    )\n",
    "    ax.set_title(f\"Distribución de {col}\", fontsize=14, fontweight=\"bold\", color=\"#333\")\n",
    "    ax.set_xlabel(\"Cantidad\", fontsize=12, color=\"#555\")\n",
    "    ax.set_ylabel(col, fontsize=12, color=\"#555\")\n",
    "    ax.spines[\"top\"].set_visible(False)\n",
    "    ax.spines[\"right\"].set_visible(False)\n",
    "\n",
    "# Ajustar el espaciado para mejorar la legibilidad\n",
    "plt.tight_layout()\n",
    "\n",
    "# Mostrar la figura\n",
    "plt.show()"
   ]
  },
  {
   "cell_type": "code",
   "execution_count": null,
   "metadata": {
    "application/vnd.databricks.v1+cell": {
     "cellMetadata": {
      "byteLimit": 2048000,
      "rowLimit": 10000
     },
     "inputWidgets": {},
     "nuid": "0578d6d4-ef4d-4101-9c76-fe8af0e0bfb4",
     "showTitle": false,
     "tableResultSettingsMap": {},
     "title": ""
    }
   },
   "outputs": [],
   "source": [
    "from pyspark.sql.functions import explode, count\n",
    "\n",
    "# Convertir la lista de dominios en filas individuales y contar frecuencia\n",
    "df_dominio_frecuencia = df_arbol.select(explode(df_arbol[\"dominios\"]).alias(\"dominio\")) \\\n",
    "    .groupBy(\"dominio\") \\\n",
    "    .agg(count(\"*\").alias(\"frecuencia\")) \\\n",
    "    .orderBy(\"frecuencia\", ascending=False)  # Aquí corregimos el orden\n",
    "\n",
    "# Convertir a Pandas para visualización\n",
    "df_dominio_frecuencia_pandas = df_dominio_frecuencia.toPandas()\n",
    "\n",
    "# Mostrar los 10 dominios más frecuentes\n",
    "df_dominio_frecuencia_pandas.head(10)"
   ]
  },
  {
   "cell_type": "code",
   "execution_count": null,
   "metadata": {
    "application/vnd.databricks.v1+cell": {
     "cellMetadata": {
      "byteLimit": 2048000,
      "rowLimit": 10000
     },
     "inputWidgets": {},
     "nuid": "1ced6397-fe96-4a62-882d-5365fba140b2",
     "showTitle": false,
     "tableResultSettingsMap": {},
     "title": ""
    }
   },
   "outputs": [],
   "source": [
    "import matplotlib.pyplot as plt\n",
    "import seaborn as sns\n",
    "\n",
    "# Seleccionar los 20 dominios más frecuentes\n",
    "top_n = 20\n",
    "df_top_dominio = df_dominio_frecuencia_pandas.head(top_n)\n",
    "\n",
    "# Crear el gráfico de barras\n",
    "plt.figure(figsize=(12, 6))\n",
    "sns.barplot(y=df_top_dominio[\"dominio\"], x=df_top_dominio[\"frecuencia\"], palette=\"viridis\")\n",
    "plt.xlabel(\"Frecuencia\")\n",
    "plt.ylabel(\"Dominio ICD\")\n",
    "plt.title(f\"Top {top_n} dominios de diagnóstico más frecuentes\")\n",
    "plt.show()"
   ]
  },
  {
   "cell_type": "code",
   "execution_count": null,
   "metadata": {
    "application/vnd.databricks.v1+cell": {
     "cellMetadata": {
      "byteLimit": 2048000,
      "rowLimit": 10000
     },
     "inputWidgets": {},
     "nuid": "d57af381-3b92-4792-b232-8012b4e38544",
     "showTitle": false,
     "tableResultSettingsMap": {},
     "title": ""
    }
   },
   "outputs": [],
   "source": [
    "from pyspark.sql.functions import explode, count\n",
    "\n",
    "# Explode para convertir la lista de dominios en filas individuales\n",
    "df_dominio_edad = df_arbol.select(explode(df_arbol[\"dominios\"]).alias(\"dominio\"), \"edad_categoria\")\n",
    "\n",
    "# Contar la frecuencia de cada diagnóstico\n",
    "df_dominio_frecuencia = df_dominio_edad.groupBy(\"dominio\").agg(count(\"*\").alias(\"frecuencia\"))\n",
    "\n",
    "# Seleccionar los 10 diagnósticos más frecuentes\n",
    "top_diagnosticos = df_dominio_frecuencia.orderBy(\"frecuencia\", ascending=False).limit(10)\n",
    "\n",
    "# Filtrar el dataset para incluir solo estos diagnósticos\n",
    "df_top_dominio_edad = df_dominio_edad.join(top_diagnosticos, on=\"dominio\", how=\"inner\")\n",
    "\n",
    "# Contar la cantidad de cada diagnóstico por grupo de edad\n",
    "df_dominio_edad_frecuencia = df_top_dominio_edad.groupBy(\"dominio\", \"edad_categoria\") \\\n",
    "    .agg(count(\"*\").alias(\"frecuencia\")) \\\n",
    "    .orderBy(\"dominio\", \"edad_categoria\")\n",
    "\n",
    "# Convertir a Pandas para visualización\n",
    "df_dominio_edad_pandas = df_dominio_edad_frecuencia.toPandas()"
   ]
  },
  {
   "cell_type": "code",
   "execution_count": null,
   "metadata": {
    "application/vnd.databricks.v1+cell": {
     "cellMetadata": {
      "byteLimit": 2048000,
      "rowLimit": 10000
     },
     "inputWidgets": {},
     "nuid": "797eb3dc-03d0-4af6-badf-b4f91700b69e",
     "showTitle": false,
     "tableResultSettingsMap": {},
     "title": ""
    }
   },
   "outputs": [],
   "source": [
    "import matplotlib.pyplot as plt\n",
    "import seaborn as sns\n",
    "\n",
    "# Configuración del gráfico\n",
    "plt.figure(figsize=(14, 6))\n",
    "sns.barplot(data=df_dominio_edad_pandas, x=\"dominio\", y=\"frecuencia\", hue=\"edad_categoria\", palette=\"coolwarm\")\n",
    "\n",
    "# Etiquetas y título\n",
    "plt.xlabel(\"Diagnóstico\")\n",
    "plt.ylabel(\"Frecuencia\")\n",
    "plt.title(\"Top 10 Diagnósticos más Frecuentes por Grupo de Edad\")\n",
    "plt.xticks(rotation=45, ha=\"right\")  # Rotar etiquetas para mejor lectura\n",
    "plt.legend(title=\"Grupo de Edad\")\n",
    "\n",
    "# Mostrar gráfico\n",
    "plt.show()"
   ]
  },
  {
   "cell_type": "code",
   "execution_count": null,
   "metadata": {
    "application/vnd.databricks.v1+cell": {
     "cellMetadata": {
      "byteLimit": 2048000,
      "rowLimit": 10000
     },
     "inputWidgets": {},
     "nuid": "dac401f7-d9da-403c-bd10-1b70fd5dcacd",
     "showTitle": false,
     "tableResultSettingsMap": {},
     "title": ""
    }
   },
   "outputs": [],
   "source": [
    "from pyspark.sql.functions import row_number\n",
    "from pyspark.sql.window import Window\n",
    "\n",
    "# Contar la frecuencia de cada diagnóstico por grupo de edad\n",
    "df_dominio_edad_frecuencia = df_dominio_edad.groupBy(\"edad_categoria\", \"dominio\") \\\n",
    "    .agg(count(\"*\").alias(\"frecuencia\"))\n",
    "\n",
    "# Crear una ventana de particionamiento por grupo de edad y ordenar por frecuencia descendente\n",
    "window_spec = Window.partitionBy(\"edad_categoria\").orderBy(df_dominio_edad_frecuencia[\"frecuencia\"].desc())\n",
    "\n",
    "# Añadir una columna con el ranking de diagnósticos dentro de cada grupo de edad\n",
    "df_dominio_edad_ranked = df_dominio_edad_frecuencia.withColumn(\"rank\", row_number().over(window_spec))\n",
    "\n",
    "# Filtrar solo los 5 diagnósticos más frecuentes por grupo de edad\n",
    "df_top5_por_edad = df_dominio_edad_ranked.filter(\"rank <= 5\").orderBy(\"edad_categoria\", \"rank\")\n",
    "\n",
    "# Convertir a Pandas para visualización\n",
    "df_top5_por_edad_pandas = df_top5_por_edad.toPandas()"
   ]
  },
  {
   "cell_type": "code",
   "execution_count": null,
   "metadata": {
    "application/vnd.databricks.v1+cell": {
     "cellMetadata": {
      "byteLimit": 2048000,
      "rowLimit": 10000
     },
     "inputWidgets": {},
     "nuid": "26ca7eff-52af-405a-9143-99593d5312bc",
     "showTitle": false,
     "tableResultSettingsMap": {},
     "title": ""
    }
   },
   "outputs": [],
   "source": [
    "import matplotlib.pyplot as plt\n",
    "import seaborn as sns\n",
    "\n",
    "# Configuración del gráfico\n",
    "plt.figure(figsize=(14, 8))\n",
    "sns.barplot(data=df_top5_por_edad_pandas, x=\"edad_categoria\", y=\"frecuencia\", hue=\"dominio\", palette=\"viridis\")\n",
    "\n",
    "# Etiquetas y título\n",
    "plt.xlabel(\"Grupo de Edad\")\n",
    "plt.ylabel(\"Frecuencia\")\n",
    "plt.title(\"Top 5 Diagnósticos más Frecuentes por Grupo de Edad\")\n",
    "plt.xticks(rotation=45)\n",
    "plt.legend(title=\"Diagnóstico\", bbox_to_anchor=(1.05, 1), loc=\"upper left\")\n",
    "\n",
    "# Mostrar gráfico\n",
    "plt.show()"
   ]
  },
  {
   "cell_type": "code",
   "execution_count": null,
   "metadata": {
    "application/vnd.databricks.v1+cell": {
     "cellMetadata": {
      "byteLimit": 2048000,
      "rowLimit": 10000
     },
     "inputWidgets": {},
     "nuid": "b4a3273f-4b2a-4a56-b21e-1db418249a30",
     "showTitle": false,
     "tableResultSettingsMap": {},
     "title": ""
    }
   },
   "outputs": [],
   "source": [
    "import numpy as np\n",
    "\n",
    "# Calcular estadísticas básicas de la frecuencia de dominios\n",
    "mean_freq = df_dominio_frecuencia_pandas[\"frecuencia\"].mean()\n",
    "std_freq = df_dominio_frecuencia_pandas[\"frecuencia\"].std()\n",
    "\n",
    "# Definir un umbral de rareza (menor al 5% del promedio)\n",
    "umbral_raro = mean_freq * 0.05\n",
    "\n",
    "# Filtrar dominios raros\n",
    "dominios_raros = df_dominio_frecuencia_pandas[df_dominio_frecuencia_pandas[\"frecuencia\"] < umbral_raro]\n",
    "\n",
    "# Mostrar dominios raros\n",
    "print(f\"Se encontraron {len(dominios_raros)} dominios con frecuencia menor a {umbral_raro:.2f}\")\n",
    "dominios_raros"
   ]
  },
  {
   "cell_type": "code",
   "execution_count": null,
   "metadata": {
    "application/vnd.databricks.v1+cell": {
     "cellMetadata": {
      "byteLimit": 2048000,
      "rowLimit": 10000
     },
     "inputWidgets": {},
     "nuid": "f76f3be5-c2cf-49d1-b622-14001d7e13fd",
     "showTitle": false,
     "tableResultSettingsMap": {},
     "title": ""
    }
   },
   "outputs": [],
   "source": [
    "# Contar el número total de dominios únicos\n",
    "num_dominios_totales = df_arbol.select(explode(df_arbol[\"dominios\"]).alias(\"dominio\")) \\\n",
    "    .select(\"dominio\").distinct().count()\n",
    "\n",
    "print(f\"Número total de dominios únicos en el dataset: {num_dominios_totales}\")"
   ]
  },
  {
   "cell_type": "code",
   "execution_count": null,
   "metadata": {
    "application/vnd.databricks.v1+cell": {
     "cellMetadata": {},
     "inputWidgets": {},
     "nuid": "42e3fc8b-90ac-4c27-b0b0-9464c3b2c962",
     "showTitle": false,
     "tableResultSettingsMap": {},
     "title": ""
    }
   },
   "outputs": [],
   "source": []
  }
 ],
 "metadata": {
  "application/vnd.databricks.v1+notebook": {
   "computePreferences": null,
   "dashboards": [],
   "environmentMetadata": {
    "base_environment": "",
    "environment_version": "2"
   },
   "language": "python",
   "notebookMetadata": {
    "pythonIndentUnit": 4
   },
   "notebookName": "Exploración_dataset_ARBOL",
   "widgets": {}
  },
  "kernelspec": {
   "display_name": "Python 3 (ipykernel)",
   "language": "python",
   "name": "python3"
  },
  "language_info": {
   "codemirror_mode": {
    "name": "ipython",
    "version": 3
   },
   "file_extension": ".py",
   "mimetype": "text/x-python",
   "name": "python",
   "nbconvert_exporter": "python",
   "pygments_lexer": "ipython3",
   "version": "3.8.10"
  }
 },
 "nbformat": 4,
 "nbformat_minor": 4
}
