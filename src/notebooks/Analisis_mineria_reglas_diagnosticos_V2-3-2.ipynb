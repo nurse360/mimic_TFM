{
 "cells": [
  {
   "cell_type": "markdown",
   "metadata": {
    "id": "CqwzHvCt4w-v"
   },
   "source": [
    "# Análisis de los resultados de la minería de reglas"
   ]
  },
  {
   "cell_type": "code",
   "execution_count": null,
   "metadata": {
    "jupyter": {
     "outputs_hidden": true
    }
   },
   "outputs": [],
   "source": [
    "!pip install seaborn"
   ]
  },
  {
   "cell_type": "code",
   "execution_count": null,
   "metadata": {
    "id": "7kfFiNDC52ph"
   },
   "outputs": [],
   "source": [
    "import pandas as pd\n",
    "import matplotlib.pyplot as plt\n",
    "import ast\n",
    "import networkx as nx\n",
    "import seaborn as sns\n",
    "import numpy as np\n",
    "import networkx as nx\n",
    "from matplotlib.patches import Patch"
   ]
  },
  {
   "cell_type": "code",
   "execution_count": null,
   "metadata": {
    "id": "_yV5q3uSO3cg"
   },
   "outputs": [],
   "source": [
    "import re\n",
    "from pyspark.sql import SparkSession\n",
    "from pyspark.sql.functions import col, udf, size, split\n",
    "from pyspark.sql.types import BooleanType\n",
    "from pyspark.sql.functions import size"
   ]
  },
  {
   "cell_type": "markdown",
   "metadata": {
    "id": "Pa9UAivmT8iK"
   },
   "source": [
    "# Preparar dataset con diagnósticos como consecuente para análisis"
   ]
  },
  {
   "cell_type": "code",
   "execution_count": null,
   "metadata": {
    "id": "8MKGVh0xO9Uj"
   },
   "outputs": [],
   "source": [
    "# Detener sesión anterior\n",
    "try:\n",
    "    spark.stop()\n",
    "except:\n",
    "    pass\n",
    "\n",
    "\n",
    "spark = SparkSession.builder \\\n",
    "    .appName(\"Preparación dataset para entrenamiento del modelo predictivo\") \\\n",
    "    .config(\"spark.master\", \"local[*]\") \\\n",
    "    .config(\"spark.driver.memory\", \"24g\") \\\n",
    "    .config(\"spark.executor.memory\", \"24g\") \\\n",
    "    .getOrCreate()"
   ]
  },
  {
   "cell_type": "code",
   "execution_count": null,
   "metadata": {
    "id": "ZMUbbWWQL-iS"
   },
   "outputs": [],
   "source": [
    "ruta_rules = \"data/resultados/fpgrowth_rules.parquet\""
   ]
  },
  {
   "cell_type": "code",
   "execution_count": null,
   "metadata": {
    "id": "zbgolVE7Pdve"
   },
   "outputs": [],
   "source": [
    "df_spark = spark.read.parquet(ruta_rules, header=True, inferSchema=True)"
   ]
  },
  {
   "cell_type": "code",
   "execution_count": null,
   "metadata": {
    "id": "WXITFfnuuTfx"
   },
   "outputs": [],
   "source": [
    "ruta_labitems = \"data/mimic4/d_labitems.csv\"\n",
    "df_labitems = pd.read_csv(ruta_labitems)"
   ]
  },
  {
   "cell_type": "code",
   "execution_count": null,
   "metadata": {
    "id": "EaPrXLqfujVX"
   },
   "outputs": [],
   "source": [
    "df_labitems.head()"
   ]
  },
  {
   "cell_type": "markdown",
   "metadata": {},
   "source": [
    "Se carga también el datset con las etiquetas bioquímicas para facilitar la interpretación de los items obtenidos en el antecedente. El uso de códigos numéricos optimiza el almacenamiento y procesamiento de los datos, ya que las \"label\" pueden ser frases largas que incrementan innecesariamente la dimensionalidad del dataset."
   ]
  },
  {
   "cell_type": "code",
   "execution_count": null,
   "metadata": {
    "id": "tX7SPuAXPKbi"
   },
   "outputs": [],
   "source": [
    "# Filtrar reglas con un diagnóstico como consecuente: Letra + 2 números\n",
    "\n",
    "# Expresión regular para identificar diagnósticos\n",
    "diagnosis_pattern = r\"^[A-Za-z][0-9]{2}$\"\n",
    "\n",
    "@udf(BooleanType())\n",
    "def has_diagnosis_udf(consequent_items):\n",
    "    if isinstance(consequent_items, list):\n",
    "        return any(re.match(diagnosis_pattern, item) for item in consequent_items)\n",
    "    return False\n",
    "\n",
    "# Reglas donde el consecuente es un diagnóstico\n",
    "df_filtrado = df_spark.filter(has_diagnosis_udf(col(\"consequent\")))\n"
   ]
  },
  {
   "cell_type": "code",
   "execution_count": null,
   "metadata": {},
   "outputs": [],
   "source": [
    "df_filtrado.show(10)"
   ]
  },
  {
   "cell_type": "code",
   "execution_count": null,
   "metadata": {
    "id": "2CNvl7mhPtM1"
   },
   "outputs": [],
   "source": [
    "# Contar el número de antecedentes\n",
    "df_filtrado = df_filtrado.withColumn(\"num_antecedents\", size(col(\"antecedent\")))\n",
    "\n",
    "# Filtrar reglas con 5 o menos antecedentes\n",
    "df_final = df_filtrado.filter(col(\"num_antecedents\") <= 5)"
   ]
  },
  {
   "cell_type": "code",
   "execution_count": null,
   "metadata": {
    "colab": {
     "base_uri": "https://localhost:8080/"
    },
    "id": "BWiV54XjSHtq",
    "outputId": "eb1e24fb-b9c5-4042-9eaa-05fee3237e61"
   },
   "outputs": [],
   "source": [
    "df_final.show(10, truncate=False)"
   ]
  },
  {
   "cell_type": "code",
   "execution_count": null,
   "metadata": {
    "id": "O91_U7gISwt6"
   },
   "outputs": [],
   "source": [
    "# Mostrar la cantidad de reglas después del filtrado\n",
    "print(f\"Después del filtrado hay {df_final.count()} reglas con diagnósico como consecuente\")"
   ]
  },
  {
   "cell_type": "code",
   "execution_count": null,
   "metadata": {
    "colab": {
     "base_uri": "https://localhost:8080/"
    },
    "id": "xqyoAZ8zTAFY",
    "outputId": "58865a44-74d0-4fdf-dd6b-d6333a44df04"
   },
   "outputs": [],
   "source": [
    "# Guardar en formato Parquet\n",
    "ruta_salida_parquet = \"data/resultados/reglas_diagnostico_filtradas_5antecedent.parquet\"\n",
    "\n",
    "df_final.coalesce(1).write.mode(\"overwrite\").parquet(ruta_salida_parquet)\n",
    "\n",
    "print(f\"Archivo guardado en: {ruta_salida_parquet}\")"
   ]
  },
  {
   "cell_type": "markdown",
   "metadata": {
    "id": "oQKBhhqEUG8e"
   },
   "source": [
    "# Análisis de las reglas generadas"
   ]
  },
  {
   "cell_type": "code",
   "execution_count": null,
   "metadata": {
    "colab": {
     "base_uri": "https://localhost:8080/",
     "height": 204
    },
    "id": "rXQC75feT6An",
    "outputId": "a21ca824-92d0-429b-9465-434054f65e55"
   },
   "outputs": [],
   "source": [
    "# Cargar dataset de reglas filtradas: Diagnostico consecuente y menos de 6 antecedentes\n",
    "df_diagnosticos_reglas = pd.read_parquet(ruta_salida_parquet)\n",
    "\n",
    "df_diagnosticos_reglas.head()"
   ]
  },
  {
   "cell_type": "code",
   "execution_count": null,
   "metadata": {},
   "outputs": [],
   "source": [
    "df_diagnosticos_reglas.head(50)"
   ]
  },
  {
   "cell_type": "code",
   "execution_count": null,
   "metadata": {
    "colab": {
     "base_uri": "https://localhost:8080/"
    },
    "id": "z8593BA_cT1_",
    "outputId": "899192bd-e52c-4ae0-db68-21a21ce1faa3"
   },
   "outputs": [],
   "source": [
    "print(df_diagnosticos_reglas.dtypes)"
   ]
  },
  {
   "cell_type": "code",
   "execution_count": null,
   "metadata": {
    "colab": {
     "base_uri": "https://localhost:8080/"
    },
    "id": "lCJ-H5ANcZ21",
    "outputId": "2489d41a-f6c2-40b9-c558-5e443cff13a4"
   },
   "outputs": [],
   "source": [
    "print(type(df_diagnosticos_reglas[\"antecedent\"].iloc[0]))"
   ]
  },
  {
   "cell_type": "code",
   "execution_count": null,
   "metadata": {
    "colab": {
     "base_uri": "https://localhost:8080/"
    },
    "id": "H0TPsSAJZVqh",
    "outputId": "c20030c9-df4d-4fb2-bca0-d6a4f6e7aa81"
   },
   "outputs": [],
   "source": [
    "# Convertir las columnas de arrays de NumPy a listas de Python\n",
    "df_diagnosticos_reglas[\"antecedent\"] = df_diagnosticos_reglas[\"antecedent\"].apply(lambda x: x.tolist() if isinstance(x, np.ndarray) else x)\n",
    "df_diagnosticos_reglas[\"consequent\"] = df_diagnosticos_reglas[\"consequent\"].apply(lambda x: x.tolist() if isinstance(x, np.ndarray) else x)\n",
    "\n",
    "print(type(df_diagnosticos_reglas[\"antecedent\"].iloc[0]))\n",
    "print(type(df_diagnosticos_reglas[\"consequent\"].iloc[0]))"
   ]
  },
  {
   "cell_type": "code",
   "execution_count": null,
   "metadata": {
    "colab": {
     "base_uri": "https://localhost:8080/"
    },
    "id": "Fa3lkPfiIFng",
    "outputId": "8d7e65f0-f97a-4ff0-e702-c1cc19d728f1"
   },
   "outputs": [],
   "source": [
    "# Frecuencia diagnósticos en el consecuente\n",
    "consequent_counts = df_diagnosticos_reglas[\"consequent\"].apply(lambda x: x[0] if len(x) > 0 else None).value_counts()\n",
    "print(consequent_counts)"
   ]
  },
  {
   "cell_type": "code",
   "execution_count": null,
   "metadata": {
    "colab": {
     "base_uri": "https://localhost:8080/"
    },
    "id": "s6J0FlMvTO-o",
    "outputId": "a3ed62ce-95eb-4fad-c6df-2754eb1c1d71"
   },
   "outputs": [],
   "source": [
    "# Contar el número de reglas generadas\n",
    "num_rules_filtradas = df_diagnosticos_reglas.count()\n",
    "\n",
    "print(f\"El modelo generó un total de {num_rules_filtradas} reglas con diagnostico como consecuente.\")"
   ]
  },
  {
   "cell_type": "code",
   "execution_count": null,
   "metadata": {
    "colab": {
     "base_uri": "https://localhost:8080/",
     "height": 468
    },
    "id": "sTqht5rzHuS1",
    "outputId": "57450085-acd1-42c4-ed96-2150cd031a98"
   },
   "outputs": [],
   "source": [
    "# Histogramas con la distribución de las métricas que evaluan las reglas de asociación\n",
    "fig, axes = plt.subplots(1, 3, figsize=(15, 5))\n",
    "\n",
    "# Soporte\n",
    "df_diagnosticos_reglas[\"support\"].hist(ax=axes[0], bins=30, color=\"lightcoral\", alpha=0.7, edgecolor=\"white\")\n",
    "axes[0].set_title(\"Distribución de Support\")\n",
    "\n",
    "# Confianza\n",
    "df_diagnosticos_reglas[\"confidence\"].hist(ax=axes[1], bins=30, color=\"orangered\", alpha=0.7, edgecolor=\"white\")\n",
    "axes[1].set_title(\"Distribución de Confidence\")\n",
    "\n",
    "# Lift\n",
    "df_diagnosticos_reglas[\"lift\"].hist(ax=axes[2], bins=30, color=\"darkred\", alpha=0.7, edgecolor=\"white\")\n",
    "axes[2].set_title(\"Distribución de Lift\")\n",
    "\n",
    "plt.show()"
   ]
  },
  {
   "cell_type": "markdown",
   "metadata": {
    "id": "lAMX7qEA6CMr"
   },
   "source": [
    "## Reglas con el lift más alto (mayor de 10)"
   ]
  },
  {
   "cell_type": "code",
   "execution_count": null,
   "metadata": {
    "colab": {
     "base_uri": "https://localhost:8080/",
     "height": 204
    },
    "id": "tTIVOYuVjw0C",
    "outputId": "321e6581-b937-4cc1-a283-cab4117429c8"
   },
   "outputs": [],
   "source": [
    "# Filtrar reglas con lift mayor de 10\n",
    "df_filtrado_lift10 = df_diagnosticos_reglas[\n",
    "    (df_diagnosticos_reglas['lift'] > 10)\n",
    "]\n",
    "\n",
    "df_filtrado_lift10.head()"
   ]
  },
  {
   "cell_type": "code",
   "execution_count": null,
   "metadata": {
    "colab": {
     "base_uri": "https://localhost:8080/"
    },
    "id": "ubrIJL2yIlYt",
    "outputId": "42e06b8a-4746-4d59-91c5-ce02ae0a8f2b"
   },
   "outputs": [],
   "source": [
    "# Función para extraer los parámetros bioquímicos (items de 5 dígitos)\n",
    "def extract_bioquimicos(antecedent):\n",
    "    return [item for item in antecedent if item.isdigit() and len(item) == 5]\n",
    "\n",
    "df_diagnosticos_reglas[\"bioquimicos\"] = df_diagnosticos_reglas[\"antecedent\"].apply(extract_bioquimicos)\n",
    "\n",
    "print(df_diagnosticos_reglas[\"bioquimicos\"].head())"
   ]
  },
  {
   "cell_type": "code",
   "execution_count": null,
   "metadata": {
    "id": "aZ4EiZ8EIq1L"
   },
   "outputs": [],
   "source": [
    "# Expandir la columna 'bioquimicos' para que cada parámetro tenga su propia fila\n",
    "df_bioquimicos_exploded = df_diagnosticos_reglas.explode(\"bioquimicos\")\n",
    "\n",
    "# Contar la frecuencia de cada parámetro bioquímico\n",
    "conteo_bioquimicos = df_bioquimicos_exploded[\"bioquimicos\"].value_counts().reset_index()\n",
    "conteo_bioquimicos.columns = [\"Parametro_Bioquimico\", \"Frecuencia\"]\n",
    "\n",
    "# Convertir la columna a numérico para hacer merge\n",
    "conteo_bioquimicos[\"Parametro_Bioquimico\"] = pd.to_numeric(conteo_bioquimicos[\"Parametro_Bioquimico\"], errors=\"coerce\")"
   ]
  },
  {
   "cell_type": "code",
   "execution_count": null,
   "metadata": {
    "id": "seVHuuHce9mI"
   },
   "outputs": [],
   "source": [
    "# Añadir las etiquetas a conteo_bioquimicos\n",
    "conteo_bioquimicos_merged = conteo_bioquimicos.merge(\n",
    "    df_labitems[['itemid', 'label']],\n",
    "    left_on=\"Parametro_Bioquimico\",\n",
    "    right_on=\"itemid\",\n",
    "    how=\"left\"\n",
    ")\n",
    "\n",
    "conteo_bioquimicos_merged = conteo_bioquimicos_merged.drop(columns=['itemid'])"
   ]
  },
  {
   "cell_type": "code",
   "execution_count": null,
   "metadata": {
    "colab": {
     "base_uri": "https://localhost:8080/",
     "height": 204
    },
    "id": "NAyo2fUZe_iQ",
    "outputId": "f0d78307-9ecc-4491-d126-015e483c6f5a"
   },
   "outputs": [],
   "source": [
    "conteo_bioquimicos_merged.head()"
   ]
  },
  {
   "cell_type": "markdown",
   "metadata": {
    "id": "fhMe41sP6vH6"
   },
   "source": [
    "## Reglas con el lift bajo"
   ]
  },
  {
   "cell_type": "code",
   "execution_count": null,
   "metadata": {
    "colab": {
     "base_uri": "https://localhost:8080/",
     "height": 204
    },
    "id": "q7ATzeCp5qsT",
    "outputId": "b7320e64-aed2-4aaa-c05a-a777aaaf7675"
   },
   "outputs": [],
   "source": [
    "# Filtrar reglas con lift entre 2 y 3\n",
    "df_filtrado2_3 = df_diagnosticos_reglas[\n",
    "    (df_diagnosticos_reglas['lift'].between(2, 3))\n",
    "]\n",
    "\n",
    "df_filtrado2_3.head()"
   ]
  },
  {
   "cell_type": "code",
   "execution_count": null,
   "metadata": {
    "colab": {
     "base_uri": "https://localhost:8080/",
     "height": 204
    },
    "id": "bdq-Y1l1FUwd",
    "outputId": "6c7672c7-c6aa-41df-e8b2-c62b2c998ccb"
   },
   "outputs": [],
   "source": [
    "df_filtrado2_3 = df_filtrado2_3.copy()\n",
    "\n",
    "# Aplicar la función y expandir la columna de parámetros bioquímicos\n",
    "df_filtrado2_3[\"bioquimicos\"] = df_filtrado2_3[\"antecedent\"].apply(extract_bioquimicos)\n",
    "df_bioquimicos_exploded2_3 = df_filtrado2_3.explode(\"bioquimicos\")\n",
    "\n",
    "# Contar la frecuencia y realizar el merge con df_labitems\n",
    "conteo_bioquimicos2_3 = df_bioquimicos_exploded2_3[\"bioquimicos\"].value_counts().reset_index()\n",
    "conteo_bioquimicos2_3.columns = [\"Parametro_Bioquimico\", \"Frecuencia\"]\n",
    "\n",
    "conteo_bioquimicos2_3[\"Parametro_Bioquimico\"] = pd.to_numeric(conteo_bioquimicos2_3[\"Parametro_Bioquimico\"], errors=\"coerce\")\n",
    "conteo_bioquimicos_merged2_3 = conteo_bioquimicos.merge(df_labitems[['itemid', 'label']],\n",
    "                                                      left_on=\"Parametro_Bioquimico\",\n",
    "                                                      right_on=\"itemid\",\n",
    "                                                      how=\"left\")\n",
    "\n",
    "conteo_bioquimicos_merged2_3 = conteo_bioquimicos_merged2_3.drop(columns=['itemid'])\n",
    "\n",
    "conteo_bioquimicos_merged2_3.head()"
   ]
  },
  {
   "cell_type": "code",
   "execution_count": null,
   "metadata": {
    "colab": {
     "base_uri": "https://localhost:8080/",
     "height": 204
    },
    "id": "5UdFFi6QFfL9",
    "outputId": "9ef9a3f9-cbf8-4186-e28c-cf3232341244"
   },
   "outputs": [],
   "source": [
    "# Filtrar reglas con lift entre 1,7 y 2\n",
    "df_filtrado_menos2 = df_diagnosticos_reglas[\n",
    "    (df_diagnosticos_reglas['lift'].between(1.7, 2))\n",
    "]\n",
    "\n",
    "df_filtrado_menos2.head()"
   ]
  },
  {
   "cell_type": "code",
   "execution_count": null,
   "metadata": {
    "colab": {
     "base_uri": "https://localhost:8080/",
     "height": 204
    },
    "id": "HR4wVD6dQ9Ia",
    "outputId": "63a10560-aa1a-4a48-b955-254bc4229902"
   },
   "outputs": [],
   "source": [
    "df_filtrado_menos2 = df_filtrado_menos2.copy()\n",
    "\n",
    "# Aplicar la función y expandir la columna de parámetros bioquímicos\n",
    "df_filtrado_menos2[\"bioquimicos\"] = df_filtrado_menos2[\"antecedent\"].apply(extract_bioquimicos)\n",
    "df_bioquimicos_exploded_menos2 = df_filtrado_menos2.explode(\"bioquimicos\")\n",
    "\n",
    "# Contar la frecuencia y realizar el merge con df_labitems\n",
    "conteo_bioquimicos_menos2 = df_bioquimicos_exploded_menos2[\"bioquimicos\"].value_counts().reset_index()\n",
    "conteo_bioquimicos_menos2.columns = [\"Parametro_Bioquimico\", \"Frecuencia\"]\n",
    "\n",
    "conteo_bioquimicos_menos2[\"Parametro_Bioquimico\"] = pd.to_numeric(conteo_bioquimicos_menos2[\"Parametro_Bioquimico\"], errors=\"coerce\")\n",
    "conteo_bioquimicos_merged_menos2 = conteo_bioquimicos.merge(df_labitems[['itemid', 'label']],\n",
    "                                                      left_on=\"Parametro_Bioquimico\",\n",
    "                                                      right_on=\"itemid\",\n",
    "                                                      how=\"left\")\n",
    "\n",
    "conteo_bioquimicos_merged_menos2 = conteo_bioquimicos_merged_menos2.drop(columns=['itemid'])\n",
    "\n",
    "conteo_bioquimicos_merged_menos2.head()"
   ]
  },
  {
   "cell_type": "markdown",
   "metadata": {
    "id": "_hoxObIB84uS"
   },
   "source": [
    "# Visualización gráfica de las conclusiones"
   ]
  },
  {
   "cell_type": "code",
   "execution_count": null,
   "metadata": {
    "id": "fdOyoWuf8vT-"
   },
   "outputs": [],
   "source": [
    "# Funcion que categoriza los antecedentes en 3 categorías:\n",
    "#   bioquimicos: parámetros bioquimicos alterados (5 dígitos)\n",
    "#   diagnosticos: diagnósticos médicos (letra + 2 dígitos)\n",
    "#   otros: restos de variables sociodemográficas que aparecen en las reglas\n",
    "\n",
    "def categorizar_antecedentes(antecedent):\n",
    "    if isinstance(antecedent, list):\n",
    "        bioquimicos = [item for item in antecedent if item.isdigit() and len(item) == 5]                # Números de 5 dígitos\n",
    "        diagnosticos = [item for item in antecedent if re.match(r\"^[A-Za-z]\\d{2}$\", item)]              # Diagnósticos (Letra + 2 dígitos)\n",
    "        otros = [item for item in antecedent if item not in bioquimicos and item not in diagnosticos]   # Otras variables\n",
    "        return bioquimicos, diagnosticos, otros\n",
    "    return [], [], []  # Si no es una lista, devolver listas vacías\n"
   ]
  },
  {
   "cell_type": "code",
   "execution_count": null,
   "metadata": {
    "colab": {
     "base_uri": "https://localhost:8080/",
     "height": 859
    },
    "id": "PmK5kl7vKUZA",
    "outputId": "8529b254-c34a-49b3-c60c-5816f8f15480"
   },
   "outputs": [],
   "source": [
    "df_filtrado_lift10 = df_filtrado_lift10.copy()\n",
    "\n",
    "# Aplicar función categorizar_antecedentes para lift mayor de 10\n",
    "df_filtrado_lift10[\"bioquimicos\"], df_filtrado_lift10[\"diagnosticos\"], df_filtrado_lift10[\"otros\"] = zip(\n",
    "    *df_filtrado_lift10[\"antecedent\"].apply(categorizar_antecedentes)\n",
    ")\n",
    "\n",
    "# Crear el grafo\n",
    "G = nx.DiGraph()\n",
    "\n",
    "# Iterar sobre las reglas y añadir nodos y aristas\n",
    "for _, row in df_filtrado_lift10.iterrows():\n",
    "    # Convertir el consecuente en string si es una lista\n",
    "    consecuente = row[\"consequent\"][0] if isinstance(row[\"consequent\"], list) and len(row[\"consequent\"]) > 0 else str(row[\"consequent\"])\n",
    "\n",
    "    bioquimicos = row[\"bioquimicos\"]\n",
    "    diagnosticos = row[\"diagnosticos\"]\n",
    "    otros = row[\"otros\"]\n",
    "\n",
    "    # Añadir nodos con colores diferenciados\n",
    "    for b in bioquimicos:\n",
    "        G.add_node(b, color=\"sandybrown\")\n",
    "\n",
    "    for d in diagnosticos:\n",
    "        G.add_node(d, color=\"mistyrose\")\n",
    "\n",
    "    for o in otros:\n",
    "        G.add_node(o, color=\"darkgrey\")\n",
    "\n",
    "    # Nodo del consecuente\n",
    "    G.add_node(consecuente, color=\"salmon\")\n",
    "\n",
    "    # Crear aristas hacia el consecuente\n",
    "    for b in bioquimicos:\n",
    "        G.add_edge(b, consecuente)\n",
    "\n",
    "    for d in diagnosticos:\n",
    "        G.add_edge(d, consecuente)\n",
    "\n",
    "    for o in otros:\n",
    "        G.add_edge(o, consecuente)\n",
    "\n",
    "        \n",
    "# Crear la figura\n",
    "fig, ax = plt.subplots(figsize=(12, 8))\n",
    "\n",
    "# Extraer colores\n",
    "colors = [G.nodes[node].get(\"color\", \"lightgray\") for node in G.nodes]\n",
    "\n",
    "# Disposición de nodos\n",
    "pos = nx.spring_layout(G, k=0.7)\n",
    "\n",
    "# Dibujar el grafo en el eje `ax`\n",
    "nx.draw(\n",
    "    G, pos, ax=ax, with_labels=True, node_color=colors, edge_color=\"gray\",\n",
    "    node_size=1000, font_size=10, alpha=0.9, width=2\n",
    ")\n",
    "\n",
    "# Configurar el título correctamente\n",
    "ax.set_title(\"Red de asociaciones entre diagnósticos, alteraciones bioquímicas y otras variables con lift > 10\")\n",
    "\n",
    "# Mostrar la figura\n",
    "plt.show()"
   ]
  },
  {
   "cell_type": "code",
   "execution_count": null,
   "metadata": {
    "colab": {
     "base_uri": "https://localhost:8080/",
     "height": 832
    },
    "id": "doneZp1bSC5m",
    "outputId": "600086a5-73b8-4ddc-e2e7-7bf03a88e63e"
   },
   "outputs": [],
   "source": [
    "# Aplicar función categorizar_antecedentes para todos los diagnósticos\n",
    "df_diagnosticos_reglas[\"bioquimicos\"], df_diagnosticos_reglas[\"diagnosticos\"], df_diagnosticos_reglas[\"otros\"] = zip(\n",
    "    *df_diagnosticos_reglas[\"antecedent\"].apply(categorizar_antecedentes)\n",
    ")\n",
    "\n",
    "# Obtener lista de diagnósticos que aparecen como consecuentes\n",
    "diagnosticos_consecuente = set(df_diagnosticos_reglas[\"consequent\"].apply(lambda x: x[0] if isinstance(x, list) and len(x) > 0 else str(x)))\n",
    "\n",
    "# Crear el grafo\n",
    "G = nx.DiGraph()\n",
    "\n",
    "# Iterar sobre las reglas y añadir nodos y aristas\n",
    "for _, row in df_diagnosticos_reglas.iterrows():\n",
    "    # Convertir el consecuente en string si es una lista\n",
    "    consecuente = row[\"consequent\"][0] if isinstance(row[\"consequent\"], list) and len(row[\"consequent\"]) > 0 else str(row[\"consequent\"])\n",
    "\n",
    "    bioquimicos = row[\"bioquimicos\"]\n",
    "    diagnosticos = row[\"diagnosticos\"]\n",
    "    otros = row[\"otros\"]\n",
    "\n",
    "    # Añadir nodos con colores diferenciados\n",
    "    for b in bioquimicos:\n",
    "        G.add_node(b, color=\"sandybrown\")\n",
    "\n",
    "    for d in diagnosticos:\n",
    "        if d in diagnosticos_consecuente:\n",
    "            G.add_node(d, color=\"indianred\")\n",
    "        else:\n",
    "            G.add_node(d, color=\"mistyrose\")\n",
    "\n",
    "    for o in otros:\n",
    "        G.add_node(o, color=\"darkgrey\")\n",
    "\n",
    "    # Nodo del consecuente\n",
    "    G.add_node(consecuente, color=\"salmon\")\n",
    "\n",
    "    # Crear aristas hacia el consecuente\n",
    "    for b in bioquimicos:\n",
    "        G.add_edge(b, consecuente)\n",
    "\n",
    "    for d in diagnosticos:\n",
    "        G.add_edge(d, consecuente)\n",
    "\n",
    "    for o in otros:\n",
    "        G.add_edge(o, consecuente)\n",
    "\n",
    "# Dibujar el grafo\n",
    "plt.figure(figsize=(15, 10))\n",
    "pos = nx.spring_layout(G, k=1)\n",
    "\n",
    "# Obtener colores de los nodos\n",
    "colors = [G.nodes[node][\"color\"] for node in G.nodes]\n",
    "\n",
    "# Dibujar nodos\n",
    "nx.draw_networkx_nodes(G, pos, node_color=colors, node_size=700, alpha=0.9)\n",
    "\n",
    "# Dibujar etiquetas\n",
    "nx.draw_networkx_labels(G, pos, font_size=8)\n",
    "\n",
    "# Dibujar aristas\n",
    "edges = nx.draw_networkx_edges(\n",
    "    G, pos, edge_color=\"lightseagreen\", alpha=0.6, width=0.8,\n",
    "    connectionstyle=\"arc3,rad=0.2\")\n",
    "\n",
    "# Leyenda\n",
    "legend_patches = [\n",
    "    Patch(color=\"salmon\", label=\"Diagnósticos consecuente\"),\n",
    "    Patch(color=\"mistyrose\", label=\"Diagnósticos antecedente\"),\n",
    "    Patch(color=\"indianred\", label=\"Diagnósticos en antecedente y consecuente\"),\n",
    "    Patch(color=\"sandybrown\", label=\"Parámetros bioquímicos\"),\n",
    "    Patch(color=\"darkgrey\", label=\"Otras variables\")\n",
    "]\n",
    "\n",
    "plt.legend(handles=legend_patches, loc=\"upper left\", title=\"Categoría de los nodos\", fontsize=9)\n",
    "\n",
    "plt.title(\"Asociaciones entre los ítems de las reglas de asociación con consecuente DIAGNÓSTICO\")\n",
    "plt.show()"
   ]
  },
  {
   "cell_type": "code",
   "execution_count": null,
   "metadata": {
    "colab": {
     "base_uri": "https://localhost:8080/",
     "height": 664
    },
    "id": "xvud9U8ihWiJ",
    "outputId": "8932b613-f524-419f-a85e-21528f4194a4"
   },
   "outputs": [],
   "source": [
    "df_diagnosticos_reglas_copy = df_diagnosticos_reglas.copy()\n",
    "df_diagnosticos_reglas_copy[\"consequent\"] = df_diagnosticos_reglas_copy[\"consequent\"].apply(lambda x: x[0] if isinstance(x, list) and len(x) > 0 else str(x))\n",
    "\n",
    "# Ordenar diagnósticos por lift promedio\n",
    "mean_lift_per_consequent = df_diagnosticos_reglas_copy.groupby(\"consequent\")[\"lift\"].mean().sort_values()\n",
    "\n",
    "plt.figure(figsize=(12, 6))\n",
    "sns.violinplot(\n",
    "    data=df_diagnosticos_reglas_copy,\n",
    "    x=\"consequent\",\n",
    "    y=\"lift\",\n",
    "    order=mean_lift_per_consequent.index,\n",
    "    palette=\"coolwarm\",\n",
    "    inner=\"quartile\"\n",
    ")\n",
    "\n",
    "plt.xticks(rotation=90)\n",
    "plt.xlabel(\"Diagnóstico Consecuente\")\n",
    "plt.ylabel(\"Lift\")\n",
    "plt.title(\"Distribución del Lift por Diagnóstico Consecuente\")\n",
    "plt.grid(True)\n",
    "\n",
    "plt.show()"
   ]
  },
  {
   "cell_type": "markdown",
   "metadata": {
    "id": "MEnfR4SDF3sm"
   },
   "source": [
    "El análisis de la distribución del lift por diagnóstico consecuente revela que cada diagnóstico presenta un rango característico de lift, lo que indica que las reglas con el mismo consecuente tienden a agruparse en torno a valores similares.\n",
    "Diagnósticos como E78, Z79 y Y92 muestran lifts bajos y homogéneos, mientras que otros, como I50 y N18, presentan mayor variabilidad, sugiriendo la existencia de subgrupos con diferentes niveles de asociación.\n",
    "En contraste, diagnósticos como I13 exhiben un lift consistentemente alto (>10), lo que evidencia asociaciones excepcionalmente fuertes con sus antecedentes.\n"
   ]
  },
  {
   "cell_type": "code",
   "execution_count": null,
   "metadata": {
    "colab": {
     "base_uri": "https://localhost:8080/",
     "height": 619
    },
    "id": "a2N5nC8jENXJ",
    "outputId": "c549fd7c-3dc8-4391-9788-9ed8149304f6"
   },
   "outputs": [],
   "source": [
    "plt.figure(figsize=(12, 6))\n",
    "sns.histplot(data=df_diagnosticos_reglas_copy, x=\"lift\", hue=\"consequent\", bins=20, element=\"step\", stat=\"count\", common_norm=False)\n",
    "plt.xlabel(\"Lift\")\n",
    "plt.ylabel(\"Número de Reglas\")\n",
    "plt.title(\"Distribución del Lift por Diagnóstico Consecuente\")\n",
    "plt.legend(title=\"Diagnóstico\")\n",
    "plt.show()"
   ]
  },
  {
   "cell_type": "code",
   "execution_count": null,
   "metadata": {
    "id": "08VSdndaErN1"
   },
   "outputs": [],
   "source": []
  }
 ],
 "metadata": {
  "colab": {
   "provenance": []
  },
  "kernelspec": {
   "display_name": "Python 3 (ipykernel)",
   "language": "python",
   "name": "python3"
  },
  "language_info": {
   "codemirror_mode": {
    "name": "ipython",
    "version": 3
   },
   "file_extension": ".py",
   "mimetype": "text/x-python",
   "name": "python",
   "nbconvert_exporter": "python",
   "pygments_lexer": "ipython3",
   "version": "3.8.10"
  }
 },
 "nbformat": 4,
 "nbformat_minor": 4
}
